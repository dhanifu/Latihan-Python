{
 "cells": [
  {
   "cell_type": "markdown",
   "metadata": {},
   "source": [
    "## 1. Mendapatkan hasil nilai dari inputan menggunakan for."
   ]
  },
  {
   "cell_type": "code",
   "execution_count": 5,
   "metadata": {},
   "outputs": [
    {
     "name": "stdout",
     "output_type": "stream",
     "text": [
      "nilai 0 = 10\n",
      "nilai 1 = 101\n",
      "nilai 2 = 10\n",
      "Hasil penjumlahan =  121\n",
      "Masukan nilai 10\n",
      "Masukan nilai 10\n",
      "Masukan nilai 10\n",
      "Jumlah nilai yang dimasukan adalah  30\n"
     ]
    }
   ],
   "source": [
    "i = 0\n",
    "b = 0\n",
    "for i in range(3):\n",
    "    a = int(input(\"nilai \" + str(i) + \" = \"))\n",
    "    b += a\n",
    "print(\"Hasil penjumlahan = \", b)\n",
    "    \n",
    "nilai = 0\n",
    "\n",
    "for i in range(3):\n",
    "    nilaiX = int(input(\"Masukan nilai \"))\n",
    "    nilaiX += nilai\n",
    "    nilai = nilaiX\n",
    "print(\"Jumlah nilai yang dimasukan adalah \", nilai)\n",
    "    "
   ]
  },
  {
   "cell_type": "markdown",
   "metadata": {},
   "source": [
    "## 2. Konversi nilai mata uang rupiah ke dollar dan sebaliknya, menggunakan tipe data float dan inputan data."
   ]
  },
  {
   "cell_type": "code",
   "execution_count": 11,
   "metadata": {},
   "outputs": [
    {
     "name": "stdout",
     "output_type": "stream",
     "text": [
      "Masukan uang (Rp) = 90000\n",
      "$ 6.206896551724138\n",
      "Masukan rupiah = 90000\n",
      "Harga Dollar   = $ 6.206896551724138\n",
      "\n",
      "Masukan uang ($) = 6\n",
      "Rp 87000\n",
      "Masukan dollar = 6.20\n",
      "Harga Rupiah  = Rp 89900.0\n"
     ]
    }
   ],
   "source": [
    "print(\"Rupiah ke dollar\")\n",
    "rupiah = int(input(\"Masukan uang (Rp) = \")) #Integer bisa diganti dengan float\n",
    "dolar = rupiah / 14500\n",
    "print(\"$\", dolar)\n",
    "\n",
    "rupiah = float(input(\"Masukan rupiah = \"))\n",
    "dolar2 = float(rupiah / 14500)\n",
    "print(\"Harga Dollar   = $\", dolar2)\n",
    "\n",
    "print()\n",
    "\n",
    "print(\"Dollar ke rupiah\")\n",
    "dollar = int(input(\"Masukan uang ($) = \")) \n",
    "rupiahh = dollar * 14500\n",
    "print(\"Rp\", rupiahh)\n",
    "\n",
    "dollar = float(input(\"Masukan dollar = \"))\n",
    "rupiahh2 = float(dollar * 14500)\n",
    "print(\"Harga Rupiah  = Rp\", rupiahh2)"
   ]
  },
  {
   "cell_type": "markdown",
   "metadata": {},
   "source": [
    "# # 3. Menghitung BMI ideal"
   ]
  },
  {
   "cell_type": "code",
   "execution_count": 18,
   "metadata": {},
   "outputs": [
    {
     "name": "stdout",
     "output_type": "stream",
     "text": [
      "Masukan berat badan (kg)    = 51\n",
      "Masukan tinggi badan (m)    = 1.65\n",
      "Ideal, karena bmi anda =  18.73278236914601\n"
     ]
    }
   ],
   "source": [
    "berat = float(input(\"Masukan berat badan (kg)    = \"))\n",
    "tinggi = float(input(\"Masukan tinggi badan (m)    = \"))\n",
    "\n",
    "bmi = berat / (tinggi ** 2)\n",
    "if bmi > 22.9:\n",
    "    print(\"Overweight, karena bmi anda = \", bmi)\n",
    "elif bmi > 18.5:\n",
    "    print(\"Ideal, karena bmi anda = \", bmi)\n",
    "else:\n",
    "    print(\"Underweight, karena bmi anda = \", bmi)"
   ]
  },
  {
   "cell_type": "markdown",
   "metadata": {},
   "source": [
    "# # 4. Konversi mata uang menggunakan pilihan"
   ]
  },
  {
   "cell_type": "code",
   "execution_count": 24,
   "metadata": {},
   "outputs": [
    {
     "name": "stdout",
     "output_type": "stream",
     "text": [
      "Pilih : 1. RP ke US | 2. US ke RP1\n",
      "Masukan nominal (Rp) : 1500000\n",
      "Hasil Dollar         : 103.44827586206897\n"
     ]
    }
   ],
   "source": [
    "pilihan = int(input(\"Pilih : 1. RP ke US | 2. US ke RP\"))\n",
    "\n",
    "if pilihan == 1:\n",
    "    rp = float(input(\"Masukan nominal (Rp) : \"))\n",
    "    us = rp / 14500\n",
    "    print(\"Hasil Dollar         :\", us)\n",
    "elif pilihan == 2:\n",
    "    us = float(input(\"Masukan nominal ($)  : \"))\n",
    "    rp = us * 14500\n",
    "    print(\"Hasil Rupiah         :\", rp)\n",
    "else:\n",
    "    print(\"Pilihan tidak tersedia\")"
   ]
  },
  {
   "cell_type": "markdown",
   "metadata": {},
   "source": [
    "# # 5. Menggunakan jenis letter (Huruf kapital dan kecil)"
   ]
  },
  {
   "cell_type": "code",
   "execution_count": 28,
   "metadata": {},
   "outputs": [
    {
     "name": "stdout",
     "output_type": "stream",
     "text": [
      "Input Nama : ramdhani\n",
      "R M D H N "
     ]
    }
   ],
   "source": [
    "nama = input(\"Input Nama : \")\n",
    "def hapusVokal(nama):\n",
    "    for letter in nama:\n",
    "        if letter.upper() in [' ', 'A', 'I', 'U', 'E', 'O']:\n",
    "            continue\n",
    "        print(letter.upper(), end = \" \")\n",
    "hapusVokal(nama)"
   ]
  },
  {
   "cell_type": "markdown",
   "metadata": {},
   "source": [
    "# # 6. Menghitung keliling lingkaran menggunakan import math"
   ]
  },
  {
   "cell_type": "code",
   "execution_count": 30,
   "metadata": {},
   "outputs": [
    {
     "name": "stdout",
     "output_type": "stream",
     "text": [
      "Masukan panjang jari-jari lingkaran : 4\n",
      "Luas lingkaran adalah :  50.27\n"
     ]
    }
   ],
   "source": [
    "import math as m\n",
    "\n",
    "r = float(input(\"Masukan panjang jari-jari lingkaran : \"))\n",
    "L = m.pi*r*r\n",
    "K = 2*m.pi*r\n",
    "print(\"Luas lingkaran adalah : \", round(L,2))"
   ]
  },
  {
   "cell_type": "markdown",
   "metadata": {},
   "source": [
    "# # 7. Menghitung luas dan volume permukaan balok"
   ]
  },
  {
   "cell_type": "code",
   "execution_count": 33,
   "metadata": {},
   "outputs": [
    {
     "name": "stdout",
     "output_type": "stream",
     "text": [
      "Input angka panjang : 10\n",
      "Input angka lebar   : 7\n",
      "Input angka tinggi  : 4\n",
      "Volume         : 280\n",
      "Luas Permukaan : 276\n"
     ]
    }
   ],
   "source": [
    "a = int(input(\"Input angka panjang : \"))\n",
    "b = int(input(\"Input angka lebar   : \"))\n",
    "c = int(input(\"Input angka tinggi  : \"))\n",
    "\n",
    "v = (a * b * c)\n",
    "r = 2 * (a * b + a * c + b * c)\n",
    "\n",
    "print(\"Volume         :\", round(v, 2))\n",
    "print(\"Luas Permukaan :\", round(r, 2))"
   ]
  },
  {
   "cell_type": "markdown",
   "metadata": {},
   "source": [
    "# # 8. Menghitung pajak dari penghasilan"
   ]
  },
  {
   "cell_type": "code",
   "execution_count": 38,
   "metadata": {},
   "outputs": [
    {
     "name": "stdout",
     "output_type": "stream",
     "text": [
      "Enter the annual income : 100000\n",
      "The tax is : 19118.0 thalers\n"
     ]
    }
   ],
   "source": [
    "income = float(input(\"Enter the annual income : \"))\n",
    "\n",
    "if income < 85528:\n",
    "    tax = income * 18/100 - 552.2\n",
    "else:\n",
    "    tax = (income - 86628) * 32 / 100 + 14839.2\n",
    "if tax < 0:\n",
    "    tax = 0\n",
    "    \n",
    "tax = round(tax, 0)\n",
    "print(\"The tax is :\", tax, \"thalers\")"
   ]
  },
  {
   "cell_type": "markdown",
   "metadata": {},
   "source": [
    "# # 9. Konversi angka ke bulan"
   ]
  },
  {
   "cell_type": "code",
   "execution_count": 40,
   "metadata": {},
   "outputs": [
    {
     "name": "stdout",
     "output_type": "stream",
     "text": [
      "Konversi Angka ke Bulan oleh @mrmdhani\n",
      "****************************************\n",
      "Masukan Angka : 10\n",
      "10 Konversi Bulan Oktober\n"
     ]
    }
   ],
   "source": [
    "print(\"Konversi Angka ke Bulan oleh @mrmdhani\")\n",
    "print(\"*\"*40)\n",
    "\n",
    "bulan_angka = int(input(\"Masukan Angka : \"))\n",
    "\n",
    "if bulan_angka == 1:\n",
    "    print(bulan_angka, \"Konversi Bulan\", \"Januari\")\n",
    "elif bulan_angka == 2:\n",
    "    print(bulan_angka, \"Konversi Bulan\", \"Februari\")\n",
    "elif bulan_angka == 3:\n",
    "    print(bulan_angka, \"Konversi Bulan\", \"Maret\")\n",
    "elif bulan_angka == 4:\n",
    "    print(bulan_angka, \"Konversi Bulan\", \"April\")\n",
    "elif bulan_angka == 5:\n",
    "    print(bulan_angka, \"Konversi Bulan\", \"Mei\")\n",
    "elif bulan_angka == 6:\n",
    "    print(bulan_angka, \"Konversi Bulan\", \"Juni\")\n",
    "elif bulan_angka == 7:\n",
    "    print(bulan_angka, \"Konversi Bulan\", \"Juli\")\n",
    "elif bulan_angka == 8:\n",
    "    print(bulan_angka, \"Konversi Bulan\", \"Agustus\")\n",
    "elif bulan_angka == 9:\n",
    "    print(bulan_angka, \"Konversi Bulan\", \"September\")\n",
    "elif bulan_angka == 10:\n",
    "    print(bulan_angka, \"Konversi Bulan\", \"Oktober\")\n",
    "elif bulan_angka == 11:\n",
    "    print(bulan_angka, \"Konversi Bulan\", \"November\")\n",
    "elif bulan_angka == 12:\n",
    "    print(bulan_angka, \"Konversi Bulan\", \"Desember\")\n",
    "else:\n",
    "    print(\"Error, Hayang masukkan rentang angka 1 - 12 !\")"
   ]
  },
  {
   "cell_type": "markdown",
   "metadata": {},
   "source": [
    "# # 10. Menghitung biaya parkir dengan pilihan motor atau mobil menghitung biaya perjam"
   ]
  },
  {
   "cell_type": "code",
   "execution_count": 3,
   "metadata": {},
   "outputs": [
    {
     "name": "stdout",
     "output_type": "stream",
     "text": [
      "Program Parkir oleh @mrmdhani\n",
      "****************************************\n",
      "Pilih : 1. Mobil | 2. Motor2\n",
      "Lama Parkir : 5\n",
      "Jenis: Motor\n",
      "Jumlah Bayar : 5 Jam adalah 9000\n",
      "****************************************\n"
     ]
    }
   ],
   "source": [
    "print(\"Program Parkir oleh @mrmdhani\")\n",
    "print(40* \"*\")\n",
    "\n",
    "pilihan = float(input(\"Pilih : 1. Mobil | 2. Motor\"))\n",
    "\n",
    "if pilihan == 1:\n",
    "    mobil = int(input(\"Lama Parkir : \"))\n",
    "    if mobil <= 2:\n",
    "        bayar = 1 * 3000\n",
    "    elif mobil > 2 and mobil < 24:\n",
    "        bayar = ((mobil - 2) * 4000) + 3000\n",
    "    else:\n",
    "        bayar = ((mobil - 2) * 4000) + 3000 + 100000\n",
    "    print(\"Jenis: Mobil\\nJumlah Bayar :\", mobil, \"Jam adalah\", bayar)\n",
    "elif pilihan == 2:\n",
    "    motor = int(input(\"Lama Parkir : \"))\n",
    "    if motor <= 2:\n",
    "        bayar = 1 * 3000\n",
    "    elif motor > 2 and motor < 24:\n",
    "        bayar = ((motor - 2) * 2000) + 3000\n",
    "    else:\n",
    "        bayar = ((motor - 2) * 2000) + 3000 + 100000\n",
    "    print(\"Jenis: Motor\\nJumlah Bayar :\", motor, \"Jam adalah\", bayar)\n",
    "else:\n",
    "    print(\"Pilihan hanya 1 dan 2\")\n",
    "    \n",
    "print(40* \"*\")"
   ]
  },
  {
   "cell_type": "markdown",
   "metadata": {},
   "source": [
    "# # 11. Menghitung pengeluaran gaji"
   ]
  },
  {
   "cell_type": "code",
   "execution_count": 9,
   "metadata": {},
   "outputs": [
    {
     "name": "stdout",
     "output_type": "stream",
     "text": [
      "****************************************\n",
      "Gaji/jam yang diinginkan    : 500000\n",
      "jumlah jam kerja selama seminggu : 60\n",
      "--------------------\n",
      "# Gaji yang diterima                   : 30000000.0\n",
      "--------------------\n",
      "# Gaji setelah bayar pajak             : 25800000.0\n",
      "--------------------\n",
      "# Gaji setelah beli baju dan aksesoris : 23220000.0\n",
      "--------------------\n",
      "# Gaji setelah beli ATK                : 20898000.0\n",
      "--------------------\n",
      "# Gaji setelah sedekah                 : 15673500.0\n",
      "--------------------\n",
      "# Gaji setelah sedekah ke yatim        : 4702050.0\n",
      "--------------------\n",
      "# Gaji setelah sedekah ke dhuafa       : 10971450.0\n",
      "****************************************\n"
     ]
    }
   ],
   "source": [
    "# print(\"Menghitung Penghasilan Budi oleh @mrmdhani\")\n",
    "print(40* \"*\")\n",
    "\n",
    "gaji_per_jam = float(input(\"Gaji/jam yang diinginkan    : \"))\n",
    "jumlah_jam = float(input(\"jumlah jam kerja selama seminggu : \"))\n",
    "\n",
    "gaji_bersih = gaji_per_jam * jumlah_jam\n",
    "pajak = gaji_bersih - (gaji_bersih*0.14)\n",
    "baju_aksesoris = (gaji_bersih - (gaji_bersih*0.14) - (pajak*10/100))\n",
    "alat_tulis = (baju_aksesoris - (baju_aksesoris * 0.1))\n",
    "sedekah = (alat_tulis - (alat_tulis * 0.25))\n",
    "yatim = (sedekah * 0.30)\n",
    "dhuafa = (sedekah * 0.70)\n",
    "\n",
    "print(20 * \"-\")\n",
    "print(\"# Gaji yang diterima                   :\", gaji_bersih)\n",
    "print(20 * \"-\")\n",
    "print(\"# Gaji setelah bayar pajak             :\", pajak)\n",
    "print(20 * \"-\")\n",
    "print(\"# Gaji setelah beli baju dan aksesoris :\", baju_aksesoris)\n",
    "print(20 * \"-\")\n",
    "print(\"# Gaji setelah beli ATK                :\", alat_tulis)\n",
    "print(20 * \"-\")\n",
    "print(\"# Gaji setelah sedekah                 :\", sedekah)\n",
    "print(20 * \"-\")\n",
    "print(\"# Gaji setelah sedekah ke yatim        :\", yatim)\n",
    "print(20 * \"-\")\n",
    "print(\"# Gaji setelah sedekah ke dhuafa       :\", dhuafa)\n",
    "\n",
    "print(40* \"*\")\n",
    "\n",
    "\n"
   ]
  },
  {
   "cell_type": "markdown",
   "metadata": {},
   "source": [
    "# # 12. Membuat biodata menggunakan inputan"
   ]
  },
  {
   "cell_type": "code",
   "execution_count": 8,
   "metadata": {},
   "outputs": [
    {
     "name": "stdout",
     "output_type": "stream",
     "text": [
      "Biodata Guru oleh @mrmdhani\n",
      "****************************************\n",
      "Nama        : Muhammad Ramdhani\n",
      "Tempat Lahir : Bogor\n",
      "Tahun Lahir : 2003\n",
      "Kota Asal : Bogor\n",
      "Sekolah Tempat Mengajar : SMK Wikrama Bogor\n",
      "Jumlah Siswa : 1630\n",
      "****************************************\n",
      "List Awal    : ['Muhammad Ramdhani', 'Bogor', 2003, 'Bogor', 'SMK Wikrama Bogor', 1630]\n",
      "****************************************\n",
      "Nama saya Muhammad Ramdhani . Saya Lahir di Bogor . Saya tinggal di Bogor . dan mengajar di SMK Wikrama Bogor . Tahun depan saya akan berusia 17  tahun. dan akan memiliki siswa sebanyak 1632  orang\n",
      "****************************************\n"
     ]
    }
   ],
   "source": [
    "print(\"Biodata Guru oleh @mrmdhani\")\n",
    "print(40* \"*\")\n",
    "\n",
    "data_diri = []\n",
    "nama = input(\"Nama        : \")\n",
    "tempat_lahir = input(\"Tempat Lahir : \")\n",
    "tahun_lahir = int(input(\"Tahun Lahir : \"))\n",
    "kota_asal = input(\"Kota Asal : \")\n",
    "sekolah_ngajar = input(\"Sekolah Tempat Mengajar : \")\n",
    "jumlah_siswa = int(input(\"Jumlah Siswa : \"))\n",
    "\n",
    "print(40* \"*\")\n",
    "\n",
    "data_diri.extend([nama, tempat_lahir, tahun_lahir, kota_asal, sekolah_ngajar, jumlah_siswa])\n",
    "print(\"List Awal    :\", data_diri)\n",
    "\n",
    "umur = 2019 - tahun_lahir\n",
    "umur_thn_depan = umur + 1\n",
    "siswa_thn_depan = jumlah_siswa + 2\n",
    "\n",
    "print(40*\"*\")\n",
    "\n",
    "print(\"Nama saya\", nama, \". Saya Lahir di\", tempat_lahir, \". Saya tinggal di\", kota_asal, \". dan mengajar di\", sekolah_ngajar, \". Tahun depan saya akan berusia\", umur_thn_depan, \" tahun. dan akan memiliki siswa sebanyak\", siswa_thn_depan, \" orang\")\n",
    "\n",
    "print(40* \"*\")"
   ]
  },
  {
   "cell_type": "markdown",
   "metadata": {},
   "source": [
    "# Operator Relasional"
   ]
  },
  {
   "cell_type": "code",
   "execution_count": 1,
   "metadata": {},
   "outputs": [
    {
     "name": "stdout",
     "output_type": "stream",
     "text": [
      "masukkan a = 1\n",
      "masukkan b = 2\n",
      "masukkan c = 3\n",
      "masukkan d = 4\n",
      "a==b False\n",
      "a==c False\n",
      "a!=b True\n",
      "a>d False\n",
      "b<d True\n",
      "b<=d True\n"
     ]
    }
   ],
   "source": [
    "a = int(input(\"masukkan a = \"))\n",
    "b = int(input(\"masukkan b = \"))\n",
    "c = int(input(\"masukkan c = \"))\n",
    "d = int(input(\"masukkan d = \"))\n",
    "\n",
    "print(\"a==b\",a==b)\n",
    "print(\"a==c\",a==c)\n",
    "print(\"a!=b\",a!=b)\n",
    "\n",
    "print(\"a>d\",a>d)\n",
    "print(\"b<d\",b<d)\n",
    "print(\"b<=d\",b<=d)"
   ]
  }
 ],
 "metadata": {
  "kernelspec": {
   "display_name": "Python 3",
   "language": "python",
   "name": "python3"
  },
  "language_info": {
   "codemirror_mode": {
    "name": "ipython",
    "version": 3
   },
   "file_extension": ".py",
   "mimetype": "text/x-python",
   "name": "python",
   "nbconvert_exporter": "python",
   "pygments_lexer": "ipython3",
   "version": "3.7.1"
  }
 },
 "nbformat": 4,
 "nbformat_minor": 2
}
